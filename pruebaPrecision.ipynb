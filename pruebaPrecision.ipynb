{
 "cells": [
  {
   "cell_type": "code",
   "execution_count": 8,
   "metadata": {},
   "outputs": [],
   "source": [
    "import cv2\n",
    "import numpy as np\n",
    "import NN_resorces.Dataset as dt"
   ]
  },
  {
   "cell_type": "code",
   "execution_count": 9,
   "metadata": {},
   "outputs": [
    {
     "name": "stdout",
     "output_type": "stream",
     "text": [
      "c:\\Users\\Mau\\Desktop\\proyectos\\Proyecti_Final\n",
      "7332\n"
     ]
    }
   ],
   "source": [
    "dataset = dt.FramesDataset('.\\dataset')\n",
    "len = dataset.__len__()"
   ]
  },
  {
   "cell_type": "code",
   "execution_count": 10,
   "metadata": {},
   "outputs": [],
   "source": [
    "def calcFrame(frame1 , frame2):\n",
    "    Frame1gray = cv2.cvtColor(frame1, cv2.COLOR_BGR2GRAY)\n",
    "    Frame2gray = cv2.cvtColor(frame2, cv2.COLOR_BGR2GRAY)\n",
    "    hsv = np.zeros_like(frame1)\n",
    "    hsv[..., 1] = 255\n",
    "    flow = cv2.calcOpticalFlowFarneback(Frame1gray, Frame2gray, None, 0.5, 3, 15, 3, 5, 1.2, 0)\n",
    "    h, w = flow.shape[:2]\n",
    "    flow = -flow\n",
    "    flow[:,:,0] += np.arange(w)\n",
    "    flow[:,:,1] += np.arange(h)[:,np.newaxis]\n",
    "    newFrame = cv2.remap(frame1, flow,None, cv2.INTER_LINEAR)\n",
    "    return newFrame"
   ]
  },
  {
   "cell_type": "code",
   "execution_count": 11,
   "metadata": {},
   "outputs": [
    {
     "name": "stdout",
     "output_type": "stream",
     "text": [
      "13.542545732834313\n"
     ]
    }
   ],
   "source": [
    "totalError = 0\n",
    "for i in range(len):\n",
    "    f1, f2, f3 = dataset.__getitem__(i)\n",
    "    fNew = calcFrame(f1,f3)\n",
    "    error = np.square(fNew-f2).mean()\n",
    "    totalError += error\n",
    "print(totalError/len)"
   ]
  }
 ],
 "metadata": {
  "kernelspec": {
   "display_name": "Python 3.9.12 ('interpolacion2D')",
   "language": "python",
   "name": "python3"
  },
  "language_info": {
   "codemirror_mode": {
    "name": "ipython",
    "version": 3
   },
   "file_extension": ".py",
   "mimetype": "text/x-python",
   "name": "python",
   "nbconvert_exporter": "python",
   "pygments_lexer": "ipython3",
   "version": "3.9.16"
  },
  "orig_nbformat": 4,
  "vscode": {
   "interpreter": {
    "hash": "0e3dfe4f09b97301be771d2623b4122752a1b30635ca75e5399537822434d659"
   }
  }
 },
 "nbformat": 4,
 "nbformat_minor": 2
}
