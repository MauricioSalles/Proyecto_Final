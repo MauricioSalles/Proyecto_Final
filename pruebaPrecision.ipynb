{
 "cells": [
  {
   "cell_type": "code",
   "execution_count": 1,
   "metadata": {},
   "outputs": [],
   "source": [
    "import cv2\n",
    "import numpy as np\n",
    "import NN_resorces.Dataset as dt\n",
    "from SegmentFlow import calcFow"
   ]
  },
  {
   "cell_type": "code",
   "execution_count": 2,
   "metadata": {},
   "outputs": [
    {
     "name": "stderr",
     "output_type": "stream",
     "text": [
      "usage: ipykernel_launcher.py [-h] [--model MODEL] [--model_name MODEL_NAME]\n",
      "                             [--path PATH] [--num_heads NUM_HEADS]\n",
      "                             [--position_only] [--position_and_content]\n",
      "                             [--mixed_precision]\n",
      "ipykernel_launcher.py: error: unrecognized arguments: --ip=127.0.0.1 --stdin=9008 --control=9006 --hb=9005 --Session.signature_scheme=\"hmac-sha256\" --Session.key=b\"f1621d24-b8db-4c19-b3ec-ab05cbf346ee\" --shell=9007 --transport=\"tcp\" --iopub=9009 --f=c:\\Users\\Mau\\AppData\\Roaming\\jupyter\\runtime\\kernel-v2-35607pLM0LrCkW82.json\n"
     ]
    },
    {
     "ename": "SystemExit",
     "evalue": "2",
     "output_type": "error",
     "traceback": [
      "An exception has occurred, use %tb to see the full traceback.\n",
      "\u001b[1;31mSystemExit\u001b[0m\u001b[1;31m:\u001b[0m 2\n"
     ]
    },
    {
     "name": "stderr",
     "output_type": "stream",
     "text": [
      "c:\\Users\\Mau\\anaconda3\\envs\\proyecto-final\\Lib\\site-packages\\IPython\\core\\interactiveshell.py:3516: UserWarning: To exit: use 'exit', 'quit', or Ctrl-D.\n",
      "  warn(\"To exit: use 'exit', 'quit', or Ctrl-D.\", stacklevel=1)\n"
     ]
    }
   ],
   "source": [
    "dataset = dt.Dataset('.\\dataset')\n",
    "len = dataset.__len__()"
   ]
  },
  {
   "cell_type": "code",
   "execution_count": null,
   "metadata": {},
   "outputs": [],
   "source": [
    "def calcFrame(frame1 , frame2):\n",
    "    flow = calcFow(frame1 , frame2)\n",
    "    h, w = flow.shape[:2]\n",
    "    flow = -flow*0.5\n",
    "    flow[:,:,0] += np.arange(w)\n",
    "    flow[:,:,1] += np.arange(h)[:,np.newaxis]\n",
    "    newFrame = cv2.remap(frame1, flow,None, cv2.INTER_LINEAR)\n",
    "    return newFrame"
   ]
  },
  {
   "cell_type": "code",
   "execution_count": null,
   "metadata": {},
   "outputs": [],
   "source": [
    "totalError = 0\n",
    "for i in range(len):\n",
    "    f1, f2, f3 = dataset.__getitem__(i)\n",
    "    fNew = calcFrame(f1,f3)\n",
    "    error = np.square(fNew-f2).mean()\n",
    "    totalError += error\n",
    "    if i == 100:\n",
    "        break\n",
    "print(totalError/100)"
   ]
  }
 ],
 "metadata": {
  "kernelspec": {
   "display_name": "Python 3.9.12 ('interpolacion2D')",
   "language": "python",
   "name": "python3"
  },
  "language_info": {
   "codemirror_mode": {
    "name": "ipython",
    "version": 3
   },
   "file_extension": ".py",
   "mimetype": "text/x-python",
   "name": "python",
   "nbconvert_exporter": "python",
   "pygments_lexer": "ipython3",
   "version": "3.11.3"
  },
  "orig_nbformat": 4,
  "vscode": {
   "interpreter": {
    "hash": "0e3dfe4f09b97301be771d2623b4122752a1b30635ca75e5399537822434d659"
   }
  }
 },
 "nbformat": 4,
 "nbformat_minor": 2
}
