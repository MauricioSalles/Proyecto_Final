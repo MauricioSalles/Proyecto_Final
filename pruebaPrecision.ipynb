{
 "cells": [
  {
   "cell_type": "code",
   "execution_count": null,
   "metadata": {},
   "outputs": [],
   "source": [
    "import cv2\n",
    "import numpy as np\n",
    "import NN_resorces.Dataset as dt\n",
    "from SegmentFlow import calcFow"
   ]
  },
  {
   "cell_type": "code",
   "execution_count": null,
   "metadata": {},
   "outputs": [],
   "source": [
    "dataset = dt.Dataset('.\\dataset')\n",
    "len = dataset.__len__()"
   ]
  },
  {
   "cell_type": "code",
   "execution_count": null,
   "metadata": {},
   "outputs": [],
   "source": [
    "def calcFrame(frame1 , frame2):\n",
    "    flow = calcFow(frame1 , frame2)\n",
    "    h, w = flow.shape[:2]\n",
    "    flow = -flow*0.5\n",
    "    flow[:,:,0] += np.arange(w)\n",
    "    flow[:,:,1] += np.arange(h)[:,np.newaxis]\n",
    "    newFrame = cv2.remap(frame1, flow,None, cv2.INTER_LINEAR)\n",
    "    return newFrame"
   ]
  },
  {
   "cell_type": "code",
   "execution_count": null,
   "metadata": {},
   "outputs": [],
   "source": [
    "totalError = 0\n",
    "for i in range(len):\n",
    "    f1, f2, f3 = dataset.__getitem__(i)\n",
    "    fNew = calcFrame(f1,f3)\n",
    "    error = np.square(fNew-f2).mean()\n",
    "    totalError += error\n",
    "    if i == 100:\n",
    "        break\n",
    "print(totalError/100)"
   ]
  }
 ],
 "metadata": {
  "kernelspec": {
   "display_name": "Python 3.9.12 ('interpolacion2D')",
   "language": "python",
   "name": "python3"
  },
  "language_info": {
   "codemirror_mode": {
    "name": "ipython",
    "version": 3
   },
   "file_extension": ".py",
   "mimetype": "text/x-python",
   "name": "python",
   "nbconvert_exporter": "python",
   "pygments_lexer": "ipython3",
   "version": "3.11.3"
  },
  "orig_nbformat": 4,
  "vscode": {
   "interpreter": {
    "hash": "0e3dfe4f09b97301be771d2623b4122752a1b30635ca75e5399537822434d659"
   }
  }
 },
 "nbformat": 4,
 "nbformat_minor": 2
}
