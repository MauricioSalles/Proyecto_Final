{
 "cells": [
  {
   "cell_type": "code",
   "execution_count": 1,
   "metadata": {},
   "outputs": [],
   "source": [
    "import torch\n",
    "import torch.cuda as cuda\n",
    "from torch.nn.functional import pad\n",
    "import torchvision.transforms as transforms\n",
    "from torch.utils.data import random_split\n",
    "from torch.utils.data import DataLoader\n",
    "import matplotlib.pyplot as plt\n",
    "import cv2\n",
    "import numpy as np\n",
    "from os.path import exists\n",
    "from Dataset import FramesDataset\n",
    "from torchvision.models.optical_flow import raft_large\n",
    "from torchvision.models.optical_flow import Raft_Large_Weights\n",
    "from refine_flow import refine_flow"
   ]
  },
  {
   "cell_type": "code",
   "execution_count": 2,
   "metadata": {},
   "outputs": [
    {
     "name": "stderr",
     "output_type": "stream",
     "text": [
      "usage: ipykernel_launcher.py [-h] [--model MODEL] [--model_name MODEL_NAME]\n",
      "                             [--path PATH] [--num_heads NUM_HEADS]\n",
      "                             [--position_only] [--position_and_content]\n",
      "                             [--mixed_precision]\n",
      "ipykernel_launcher.py: error: unrecognized arguments: --ip=127.0.0.1 --stdin=9003 --control=9001 --hb=9000 --Session.signature_scheme=\"hmac-sha256\" --Session.key=b\"e4cacb97-aca8-4f07-a95f-00c31edbd977\" --shell=9002 --transport=\"tcp\" --iopub=9004 --f=c:\\Users\\Mau\\AppData\\Roaming\\jupyter\\runtime\\kernel-v2-187322lr7Dk0P4CeN.json\n"
     ]
    },
    {
     "ename": "SystemExit",
     "evalue": "2",
     "output_type": "error",
     "traceback": [
      "An exception has occurred, use %tb to see the full traceback.\n",
      "\u001b[1;31mSystemExit\u001b[0m\u001b[1;31m:\u001b[0m 2\n"
     ]
    },
    {
     "name": "stderr",
     "output_type": "stream",
     "text": [
      "c:\\Users\\Mau\\anaconda3\\envs\\Proyecto_Final.venv\\lib\\site-packages\\IPython\\core\\interactiveshell.py:3516: UserWarning: To exit: use 'exit', 'quit', or Ctrl-D.\n",
      "  warn(\"To exit: use 'exit', 'quit', or Ctrl-D.\", stacklevel=1)\n"
     ]
    }
   ],
   "source": [
    "BATCH = 1\n",
    "EPOCHS = 1\n",
    "device = \"cuda\" if torch.cuda.is_available() else \"cpu\"\n",
    "model = raft_large(weights=Raft_Large_Weights.C_T_SKHT_K_V1).to(device)\n",
    "dir_dataset = '../dataset2'\n",
    "dataset = FramesDataset(dir = dir_dataset, transform=transforms.ToTensor())\n",
    "refine_flow = refine_flow()\n",
    "%tb"
   ]
  },
  {
   "cell_type": "code",
   "execution_count": null,
   "metadata": {},
   "outputs": [],
   "source": [
    "length = dataset.__len__()\n",
    "test = length//10\n",
    "train = length - test\n",
    "trainset, testset = random_split(dataset,[train,test])\n",
    "trainset = DataLoader(trainset, batch_size=BATCH, shuffle=True, pin_memory=True,num_workers=2)\n",
    "testset = DataLoader(testset, batch_size=1, shuffle=True)"
   ]
  },
  {
   "cell_type": "code",
   "execution_count": null,
   "metadata": {},
   "outputs": [],
   "source": [
    "(F1,F3) ,F2, (img1, img3) = next(iter(testset))\n",
    "del F1, F3\n",
    "#flow = np.transpose(output.cpu().numpy()[0], (1,2,0))\n",
    "frame1 = np.transpose(img1.cpu().numpy()[0], (1,2,0))\n",
    "frame2 = np.transpose(F2.cpu().numpy()[0], (1,2,0))\n",
    "frame3 = np.transpose(img3.cpu().numpy()[0], (1,2,0))\n",
    "flow = refine_flow.calcFlow(frame1,frame3)\n",
    "flow2 = flow"
   ]
  },
  {
   "cell_type": "code",
   "execution_count": null,
   "metadata": {},
   "outputs": [],
   "source": [
    "print(flow.shape)\n",
    "h, w = flow.shape[:2]\n",
    "flow = -flow\n",
    "flow[:,:,0] += np.arange(w)\n",
    "flow[:,:,1] += np.arange(h)[:,np.newaxis]\n",
    "newFrame = cv2.remap(frame1, flow,None, cv2.INTER_AREA     , borderMode = cv2.BORDER_TRANSPARENT  )\n",
    "hsv = np.zeros(frame1.shape, dtype=np.uint8)\n",
    "hsv[..., 1] = 0\n",
    "mag, ang = cv2.cartToPolar(flow2[..., 0], flow2[..., 1])\n",
    "hsv[..., 0] = ang * 180 / np.pi\n",
    "hsv[..., 2] = cv2.normalize(mag, None, 0, 255, cv2.NORM_MINMAX)\n",
    "bgr = cv2.cvtColor(hsv, cv2.COLOR_HSV2BGR)"
   ]
  },
  {
   "cell_type": "code",
   "execution_count": null,
   "metadata": {},
   "outputs": [],
   "source": [
    "fNew = cv2.cvtColor(newFrame, cv2.COLOR_BGR2RGB)\n",
    "f1 = cv2.cvtColor(frame1, cv2.COLOR_BGR2RGB)\n",
    "f2 = cv2.cvtColor(frame2, cv2.COLOR_BGR2RGB)\n",
    "f3 = cv2.cvtColor(frame3, cv2.COLOR_BGR2RGB)\n",
    "print(frame1.shape)\n",
    "fig = plt.figure(figsize=(15, 10))\n",
    "fig.add_subplot(2, 2, 1)\n",
    "plt.title(\"Fotograma generado\")\n",
    "plt.imshow(fNew)\n",
    "fig.add_subplot(2, 2, 2)\n",
    "plt.imshow(f2)\n",
    "plt.title(\"Fotograma objetivo\")\n",
    "fig.add_subplot(2, 2, 3)\n",
    "plt.imshow(f1)\n",
    "plt.title(\"Fotograma 1\")\n",
    "fig.add_subplot(2, 2, 4)\n",
    "plt.imshow(bgr)\n",
    "plt.title(\"Fotograma 2\")"
   ]
  }
 ],
 "metadata": {
  "kernelspec": {
   "display_name": "Proyecto_Final.venv",
   "language": "python",
   "name": "python3"
  },
  "language_info": {
   "codemirror_mode": {
    "name": "ipython",
    "version": 3
   },
   "file_extension": ".py",
   "mimetype": "text/x-python",
   "name": "python",
   "nbconvert_exporter": "python",
   "pygments_lexer": "ipython3",
   "version": "3.9.16"
  },
  "orig_nbformat": 4
 },
 "nbformat": 4,
 "nbformat_minor": 2
}
