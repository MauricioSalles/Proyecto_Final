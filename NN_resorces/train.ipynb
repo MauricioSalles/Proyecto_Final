{
 "cells": [
  {
   "cell_type": "code",
   "execution_count": null,
   "metadata": {},
   "outputs": [],
   "source": [
    "import torch\n",
    "import torch.optim as optim\n",
    "import torch.cuda as cuda\n",
    "import torch.nn.functional as F\n",
    "import torchvision.transforms as transforms\n",
    "from torch.utils.data import random_split\n",
    "from torch.utils.data import DataLoader\n",
    "import matplotlib.pyplot as plt\n",
    "import numpy as np\n",
    "from os.path import exists\n",
    "from Dataset import FramesDataset\n",
    "from convNet import convNet\n",
    "from UNET import UNET"
   ]
  },
  {
   "cell_type": "code",
   "execution_count": null,
   "metadata": {},
   "outputs": [],
   "source": [
    "BATCH = 3\n",
    "EPOCHS = 10\n",
    "LR = 0.0001\n",
    "cuda.empty_cache()\n",
    "device = \"cuda\" if cuda.is_available() else \"cpu\"\n",
    "dir_dataset = r'C:\\Users\\Mau\\Desktop\\proyectos\\Proyecto\\test_2k_540p'\n",
    "dataset = FramesDataset(dir = dir_dataset, transform=transforms.ToTensor())\n",
    "model = UNET(6,3).to(device)\n",
    "optimizer = optim.Adam(model.parameters(), lr=LR)"
   ]
  },
  {
   "cell_type": "code",
   "execution_count": null,
   "metadata": {},
   "outputs": [],
   "source": [
    "if(exists(\"./weights/resNet.pth\")):\n",
    "  model.load_state_dict(torch.load('./weights/resNet.pth'))"
   ]
  },
  {
   "cell_type": "code",
   "execution_count": null,
   "metadata": {},
   "outputs": [],
   "source": [
    "length = dataset.__len__()\n",
    "test = length//10\n",
    "train = length - test\n",
    "trainset, testset = random_split(dataset,[train,test])\n",
    "trainset = DataLoader(trainset, batch_size=BATCH, shuffle=True, pin_memory=True,num_workers=2)\n",
    "testset = DataLoader(testset, batch_size=1, shuffle=True)"
   ]
  },
  {
   "cell_type": "code",
   "execution_count": null,
   "metadata": {},
   "outputs": [],
   "source": [
    "lossFunction = torch.nn.SmoothL1Loss()\n",
    "totalLoss = []\n",
    "for epoch in range(EPOCHS):\n",
    "    epochLoss = []\n",
    "    for data in trainset:\n",
    "        (F1,F3) ,F2, (img1, img3) = data \n",
    "        input = torch.cat([F1.to(device), F3.to(device)], dim=1)\n",
    "        output = model(input)\n",
    "        loss  = lossFunction(output , F2.to(device))\n",
    "        epochLoss.append(loss.item())\n",
    "        loss.backward()\n",
    "        optimizer. step()\n",
    "        optimizer.zero_grad()\n",
    "        del F1, F2, F3, loss, output,  img1, data\n",
    "    print(sum(epochLoss)/len(epochLoss))\n",
    "    totalLoss.append(sum(epochLoss)/len(epochLoss))"
   ]
  },
  {
   "cell_type": "code",
   "execution_count": null,
   "metadata": {},
   "outputs": [],
   "source": [
    "data = []\n",
    "data = next(iter(testset))\n",
    "((F1,F3) ,F2, (img1, img3)) = data\n",
    "cuda.reset_peak_memory_stats(device=\"cuda\")\n",
    "with torch.no_grad():\n",
    "    output = model(torch.cat([F1.to(device), F3.to(device)], dim=1))\n",
    "img1 = F1.numpy()[0].transpose(1,2,0)\n",
    "img2 = F2.cpu().numpy()[0].transpose(1,2,0)\n",
    "img3 = F3.numpy()[0].transpose(1,2,0)\n",
    "generated = output.cpu().detach().numpy()[0].transpose(1,2,0)\n",
    "del F1, F2, F3, output, data\n",
    "cuda.reset_peak_memory_stats(device=\"cuda\")"
   ]
  },
  {
   "cell_type": "code",
   "execution_count": null,
   "metadata": {},
   "outputs": [],
   "source": [
    "fig = plt.figure(figsize=(10, 8))\n",
    "fig.add_subplot(2, 2, 1) \n",
    "plt.imshow(img1)\n",
    "plt.title(\"First\")\n",
    "fig.add_subplot(2, 2, 2)\n",
    "plt.imshow(img2)\n",
    "plt.title(\"Second\")\n",
    "fig.add_subplot(2, 2, 3)\n",
    "plt.imshow(img3)\n",
    "plt.title(\"Third\")\n",
    "fig.add_subplot(2, 2, 4)\n",
    "plt.imshow(generated)\n",
    "plt.title(\"generated\")"
   ]
  }
 ],
 "metadata": {
  "kernelspec": {
   "display_name": "Proyecto_Final.venv",
   "language": "python",
   "name": "python3"
  },
  "language_info": {
   "codemirror_mode": {
    "name": "ipython",
    "version": 3
   },
   "file_extension": ".py",
   "mimetype": "text/x-python",
   "name": "python",
   "nbconvert_exporter": "python",
   "pygments_lexer": "ipython3",
   "version": "3.9.16"
  },
  "orig_nbformat": 4
 },
 "nbformat": 4,
 "nbformat_minor": 2
}
