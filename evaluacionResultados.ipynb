{
 "cells": [
  {
   "cell_type": "code",
   "execution_count": 1,
   "metadata": {
    "tags": []
   },
   "outputs": [],
   "source": [
    "import numpy as np\n",
    "import matplotlib.pyplot as plt\n",
    "import NN_resorces.Dataset as dt\n",
    "import cv2"
   ]
  },
  {
   "cell_type": "code",
   "execution_count": 3,
   "metadata": {},
   "outputs": [
    {
     "name": "stdout",
     "output_type": "stream",
     "text": [
      "(540, 960, 3)\n"
     ]
    }
   ],
   "source": [
    "dataset = dt.FramesDataset(\".\\dataset2\")\n",
    "len = dataset.__len__()\n",
    "rand = np.random.randint(0, len)\n",
    "(F1,F3) ,frame2, (frame1, frame3) = dataset.__getitem__(rand)\n",
    "print(frame1.shape)"
   ]
  },
  {
   "cell_type": "code",
   "execution_count": null,
   "metadata": {},
   "outputs": [],
   "source": [
    "Frame1gray = cv2.cvtColor(frame1, cv2.COLOR_BGR2GRAY)\n",
    "Frame2gray = cv2.cvtColor(frame3, cv2.COLOR_BGR2GRAY)\n",
    "hsv = np.zeros_like(frame1)\n",
    "hsv[..., 1] = 255\n",
    "flow = cv2.calcOpticalFlowFarneback(Frame1gray, Frame2gray, None, 0.5, 3, 15, 3, 5, 1.2, 0)\n",
    "flow2 = flow\n",
    "h, w = flow.shape[:2]\n",
    "flow = -flow\n",
    "flow[:,:,0] += np.arange(w)\n",
    "flow[:,:,1] += np.arange(h)[:,np.newaxis]\n",
    "newFrame = cv2.remap(frame1, flow,None, cv2.INTER_LINEAR)"
   ]
  },
  {
   "cell_type": "code",
   "execution_count": null,
   "metadata": {},
   "outputs": [],
   "source": [
    "hsv = np.zeros(frame1.shape, dtype=np.uint8)\n",
    "hsv[..., 1] = 0\n",
    "mag, ang = cv2.cartToPolar(flow2[..., 0], flow2[..., 1])\n",
    "hsv[..., 0] = ang * 180 / np.pi / 2\n",
    "hsv[..., 2] = cv2.normalize(mag, None, 0, 255, cv2.NORM_MINMAX)\n",
    "bgr = cv2.cvtColor(hsv, cv2.COLOR_HSV2BGR)"
   ]
  },
  {
   "cell_type": "code",
   "execution_count": null,
   "metadata": {},
   "outputs": [],
   "source": [
    "fNew = cv2.cvtColor(newFrame, cv2.COLOR_BGR2RGB)\n",
    "f1 = cv2.cvtColor(frame1, cv2.COLOR_BGR2RGB)\n",
    "f2 = cv2.cvtColor(frame2, cv2.COLOR_BGR2RGB)\n",
    "f3 = cv2.cvtColor(frame3, cv2.COLOR_BGR2RGB)\n",
    "fig = plt.figure(figsize=(15, 10))\n",
    "fig.add_subplot(2, 2, 1)\n",
    "plt.title(\"Fotograma generado\")\n",
    "plt.imshow(fNew)\n",
    "fig.add_subplot(2, 2, 2)\n",
    "plt.imshow(f2)\n",
    "plt.title(\"Fotograma objetivo\")\n",
    "fig.add_subplot(2, 2, 3)\n",
    "plt.imshow(f1)\n",
    "plt.title(\"Fotograma 1\")\n",
    "fig.add_subplot(2, 2, 4)\n",
    "plt.imshow(f3)\n",
    "plt.title(\"Fotograma 2\")"
   ]
  },
  {
   "cell_type": "code",
   "execution_count": null,
   "metadata": {},
   "outputs": [],
   "source": [
    "fig2 = plt.figure(figsize=(15, 10))\n",
    "fig2.add_subplot(2, 2, 1)\n",
    "plt.title(\"Flujo optico\")\n",
    "plt.imshow(bgr)"
   ]
  }
 ],
 "metadata": {
  "kernelspec": {
   "display_name": "Proyecto_Final.venv",
   "language": "python",
   "name": "python3"
  },
  "language_info": {
   "codemirror_mode": {
    "name": "ipython",
    "version": 3
   },
   "file_extension": ".py",
   "mimetype": "text/x-python",
   "name": "python",
   "nbconvert_exporter": "python",
   "pygments_lexer": "ipython3",
   "version": "3.9.16"
  },
  "orig_nbformat": 4
 },
 "nbformat": 4,
 "nbformat_minor": 2
}
